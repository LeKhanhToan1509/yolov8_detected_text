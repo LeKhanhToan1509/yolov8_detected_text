{
 "cells": [
  {
   "cell_type": "code",
   "execution_count": 2,
   "metadata": {},
   "outputs": [
    {
     "name": "stdout",
     "output_type": "stream",
     "text": [
      "Transferred 355/355 items from pretrained weights\n",
      "cuda\n"
     ]
    }
   ],
   "source": [
    "from ultralytics import YOLO\n",
    "import torch\n",
    "\n",
    "device = torch.device('cuda' if torch.cuda.is_available() else 'cpu')\n",
    "model = YOLO('yolov8s.yaml').load('yolov8s.pt')\n",
    "model_path = 'models/yolov8/detect/train/weights/best.pt'\n",
    "model = YOLO(model_path).to(device)\n",
    "print(device)"
   ]
  },
  {
   "cell_type": "code",
   "execution_count": 8,
   "metadata": {},
   "outputs": [],
   "source": [
    "import cv2\n",
    "import json\n",
    "\n",
    "cap = cv2.VideoCapture(0)\n",
    "\n",
    "while True:\n",
    "    ret, frame = cap.read()  \n",
    "\n",
    "    if not ret:\n",
    "        break\n",
    "\n",
    "    res = model(frame, verbose=False)\n",
    "    predictions = json.loads(res[0].tojson())\n",
    "    for pred in predictions:\n",
    "        conf_score = pred['confidence']\n",
    "\n",
    "        if(conf_score < 0.7):\n",
    "            continue\n",
    "\n",
    "        bbox = pred['box']\n",
    "        x1, y1 = int(bbox['x1']), int(bbox['y1'])\n",
    "        x2, y2 = int(bbox['x2']), int(bbox['y2'])\n",
    "\n",
    "        frame = cv2.rectangle(frame, (x1, y1), (x2, y2), (0, 255, 0), 3)\n",
    "        frame = cv2.putText(frame, \"\", (x1, y1 - 10), cv2.FONT_HERSHEY_SIMPLEX, 1, (0, 0, 0), 2)\n",
    "\n",
    "    cv2.imshow('Video', frame)\n",
    "\n",
    "    if cv2.waitKey(1) & 0xFF == ord('q'):\n",
    "        break\n",
    "\n",
    "cap.release()\n",
    "cv2.destroyAllWindows()\n"
   ]
  }
 ],
 "metadata": {
  "kernelspec": {
   "display_name": "study",
   "language": "python",
   "name": "python3"
  },
  "language_info": {
   "codemirror_mode": {
    "name": "ipython",
    "version": 3
   },
   "file_extension": ".py",
   "mimetype": "text/x-python",
   "name": "python",
   "nbconvert_exporter": "python",
   "pygments_lexer": "ipython3",
   "version": "3.11.0"
  }
 },
 "nbformat": 4,
 "nbformat_minor": 2
}
